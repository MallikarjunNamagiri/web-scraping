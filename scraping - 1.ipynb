{
 "cells": [
  {
   "cell_type": "code",
   "execution_count": 1,
   "metadata": {},
   "outputs": [],
   "source": [
    "from bs4 import BeautifulSoup\n",
    "import requests\n",
    "\n",
    "with open('sample.html') as html_file:\n",
    "    soup = BeautifulSoup(html_file, 'lxml')"
   ]
  },
  {
   "cell_type": "code",
   "execution_count": 2,
   "metadata": {},
   "outputs": [
    {
     "name": "stdout",
     "output_type": "stream",
     "text": [
      "<!DOCTYPE html>\n",
      "<html class=\"no-js\" lang=\"\">\n",
      "<head>\n",
      "<title>Test - A Sample Website</title>\n",
      "<meta charset=\"utf-8\"/>\n",
      "<link href=\"css/normalize.css\" rel=\"stylesheet\"/>\n",
      "<link href=\"css/main.css\" rel=\"stylesheet\"/>\n",
      "</head>\n",
      "<body>\n",
      "<h1 id=\"site_title\">Test Website</h1>\n",
      "<hr/>\n",
      "<div class=\"article\">\n",
      "<h2><a href=\"article_1.html\">Article 1 Headline</a></h2>\n",
      "<p>This is a summary of article 1</p>\n",
      "</div>\n",
      "<hr/>\n",
      "<div class=\"article\">\n",
      "<h2><a href=\"article_2.html\">Article 2 Headline</a></h2>\n",
      "<p>This is a summary of article 1</p>\n",
      "</div>\n",
      "<hr/>\n",
      "<div class=\"footer\">\n",
      "<p>Footer Information</p>\n",
      "</div>\n",
      "<script src=\"js/vendor/modernizr-3.5.0.min.js\"></script>\n",
      "<script src=\"js/plugins.js\"></script>\n",
      "<script src=\"js/main.js\"></script>\n",
      "</body>\n",
      "</html>\n"
     ]
    }
   ],
   "source": [
    "print(soup)"
   ]
  },
  {
   "cell_type": "code",
   "execution_count": 3,
   "metadata": {},
   "outputs": [
    {
     "name": "stdout",
     "output_type": "stream",
     "text": [
      "<!DOCTYPE html>\n",
      "<html class=\"no-js\" lang=\"\">\n",
      " <head>\n",
      "  <title>\n",
      "   Test - A Sample Website\n",
      "  </title>\n",
      "  <meta charset=\"utf-8\"/>\n",
      "  <link href=\"css/normalize.css\" rel=\"stylesheet\"/>\n",
      "  <link href=\"css/main.css\" rel=\"stylesheet\"/>\n",
      " </head>\n",
      " <body>\n",
      "  <h1 id=\"site_title\">\n",
      "   Test Website\n",
      "  </h1>\n",
      "  <hr/>\n",
      "  <div class=\"article\">\n",
      "   <h2>\n",
      "    <a href=\"article_1.html\">\n",
      "     Article 1 Headline\n",
      "    </a>\n",
      "   </h2>\n",
      "   <p>\n",
      "    This is a summary of article 1\n",
      "   </p>\n",
      "  </div>\n",
      "  <hr/>\n",
      "  <div class=\"article\">\n",
      "   <h2>\n",
      "    <a href=\"article_2.html\">\n",
      "     Article 2 Headline\n",
      "    </a>\n",
      "   </h2>\n",
      "   <p>\n",
      "    This is a summary of article 1\n",
      "   </p>\n",
      "  </div>\n",
      "  <hr/>\n",
      "  <div class=\"footer\">\n",
      "   <p>\n",
      "    Footer Information\n",
      "   </p>\n",
      "  </div>\n",
      "  <script src=\"js/vendor/modernizr-3.5.0.min.js\">\n",
      "  </script>\n",
      "  <script src=\"js/plugins.js\">\n",
      "  </script>\n",
      "  <script src=\"js/main.js\">\n",
      "  </script>\n",
      " </body>\n",
      "</html>\n"
     ]
    }
   ],
   "source": [
    "print(soup.prettify())"
   ]
  },
  {
   "cell_type": "code",
   "execution_count": 4,
   "metadata": {},
   "outputs": [
    {
     "name": "stdout",
     "output_type": "stream",
     "text": [
      "<title>Test - A Sample Website</title>\n"
     ]
    }
   ],
   "source": [
    "match = soup.title\n",
    "print(match)"
   ]
  },
  {
   "cell_type": "code",
   "execution_count": 5,
   "metadata": {},
   "outputs": [
    {
     "name": "stdout",
     "output_type": "stream",
     "text": [
      "Test - A Sample Website\n"
     ]
    }
   ],
   "source": [
    "match = soup.title.text\n",
    "print(match)"
   ]
  },
  {
   "cell_type": "code",
   "execution_count": 6,
   "metadata": {},
   "outputs": [
    {
     "name": "stdout",
     "output_type": "stream",
     "text": [
      "<div class=\"article\">\n",
      "<h2><a href=\"article_1.html\">Article 1 Headline</a></h2>\n",
      "<p>This is a summary of article 1</p>\n",
      "</div>\n"
     ]
    }
   ],
   "source": [
    "match = soup.div\n",
    "print(match)"
   ]
  },
  {
   "cell_type": "code",
   "execution_count": 7,
   "metadata": {},
   "outputs": [
    {
     "name": "stdout",
     "output_type": "stream",
     "text": [
      "<div class=\"article\">\n",
      "<h2><a href=\"article_1.html\">Article 1 Headline</a></h2>\n",
      "<p>This is a summary of article 1</p>\n",
      "</div>\n"
     ]
    }
   ],
   "source": [
    "match = soup.find('div')\n",
    "print(match)"
   ]
  },
  {
   "cell_type": "code",
   "execution_count": 8,
   "metadata": {},
   "outputs": [
    {
     "name": "stdout",
     "output_type": "stream",
     "text": [
      "<div class=\"footer\">\n",
      "<p>Footer Information</p>\n",
      "</div>\n"
     ]
    }
   ],
   "source": [
    "# There is a reason need an underscore after class is because class\n",
    "# class is special keyword in python so they use class underscore insted\n",
    "match = soup.find('div', class_='footer')\n",
    "print(match)"
   ]
  },
  {
   "cell_type": "code",
   "execution_count": 9,
   "metadata": {},
   "outputs": [
    {
     "name": "stdout",
     "output_type": "stream",
     "text": [
      "<div class=\"article\">\n",
      "<h2><a href=\"article_1.html\">Article 1 Headline</a></h2>\n",
      "<p>This is a summary of article 1</p>\n",
      "</div>\n"
     ]
    }
   ],
   "source": [
    "article = soup.find('div', class_='article')\n",
    "print(article)"
   ]
  },
  {
   "cell_type": "code",
   "execution_count": 10,
   "metadata": {},
   "outputs": [
    {
     "name": "stdout",
     "output_type": "stream",
     "text": [
      "Article 1 Headline\n"
     ]
    }
   ],
   "source": [
    "headline = article.h2.a.text\n",
    "print(headline)"
   ]
  },
  {
   "cell_type": "code",
   "execution_count": 11,
   "metadata": {},
   "outputs": [
    {
     "name": "stdout",
     "output_type": "stream",
     "text": [
      "This is a summary of article 1\n"
     ]
    }
   ],
   "source": [
    "summary = article.p.text\n",
    "print(summary)"
   ]
  },
  {
   "cell_type": "code",
   "execution_count": 12,
   "metadata": {},
   "outputs": [
    {
     "name": "stdout",
     "output_type": "stream",
     "text": [
      "Article 1 Headline\n",
      "This is a summary of article 1\n",
      "Article 2 Headline\n",
      "This is a summary of article 1\n"
     ]
    }
   ],
   "source": [
    "# access all of the articles\n",
    "for article in soup.find_all('div', class_='article'):\n",
    "    headline = article.h2.a.text\n",
    "    print(headline)\n",
    "    \n",
    "    summary = article.p.text\n",
    "    print(summary)    "
   ]
  }
 ],
 "metadata": {
  "kernelspec": {
   "display_name": "Python 3",
   "language": "python",
   "name": "python3"
  },
  "language_info": {
   "codemirror_mode": {
    "name": "ipython",
    "version": 3
   },
   "file_extension": ".py",
   "mimetype": "text/x-python",
   "name": "python",
   "nbconvert_exporter": "python",
   "pygments_lexer": "ipython3",
   "version": "3.6.4"
  }
 },
 "nbformat": 4,
 "nbformat_minor": 2
}
